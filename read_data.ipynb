{
 "cells": [
  {
   "cell_type": "markdown",
   "metadata": {},
   "source": [
    "# Read Dataset from Dataset.zip"
   ]
  },
  {
   "cell_type": "code",
   "execution_count": null,
   "metadata": {},
   "outputs": [],
   "source": [
    "!unzip Dataset.zip"
   ]
  },
  {
   "cell_type": "code",
   "execution_count": 6,
   "metadata": {},
   "outputs": [],
   "source": [
    "import os\n",
    "import json\n",
    "import numpy as np\n",
    "from collections import defaultdict"
   ]
  },
  {
   "cell_type": "code",
   "execution_count": 7,
   "metadata": {},
   "outputs": [],
   "source": [
    "binary_ratings = {}\n",
    "range_ratings = {}\n",
    "with open('binary_ratings_mean.txt', 'r') as f:\n",
    "    lines = f.readlines()\n",
    "    for line in lines:\n",
    "        line_split = line.split(',')\n",
    "        binary_ratings[line_split[0].strip()] = float(line_split[1].strip())\n",
    "with open('range_ratings_mean.txt', 'r') as f:\n",
    "    lines = f.readlines()\n",
    "    for line in lines:\n",
    "        line_split = line.split(',')\n",
    "        range_ratings[line_split[0].strip()] = float(line_split[1].strip())"
   ]
  },
  {
   "cell_type": "code",
   "execution_count": 8,
   "metadata": {},
   "outputs": [],
   "source": [
    "dataset = defaultdict(dict)\n",
    "all_images = {}\n",
    "for split in ['Train', 'Valid', 'Test']:\n",
    "    for label in ['Funny', 'Not_Funny']:\n",
    "        dataset[split][label] = []\n",
    "        folder_path = os.path.join('Dataset', split, label)\n",
    "        for file in os.listdir(folder_path):\n",
    "            data_point = {}\n",
    "            data_point['file_path'] = os.path.join(folder_path, file)\n",
    "            data_point['filename'] = file.strip()\n",
    "            data_point['binary_rating'] = binary_ratings[file.strip()]\n",
    "            data_point['range_rating'] = range_ratings[file.strip()]\n",
    "            all_images[file.strip()] = data_point\n",
    "            dataset[split][label].append(data_point)"
   ]
  },
  {
   "cell_type": "code",
   "execution_count": 9,
   "metadata": {},
   "outputs": [
    {
     "data": {
      "text/plain": [
       "1416"
      ]
     },
     "execution_count": 9,
     "metadata": {},
     "output_type": "execute_result"
    }
   ],
   "source": [
    "mod2org = json.load(open('mod2org.json', 'r'))\n",
    "len(mod2org)"
   ]
  }
 ],
 "metadata": {
  "kernelspec": {
   "display_name": "Python 3",
   "language": "python",
   "name": "python3"
  },
  "language_info": {
   "codemirror_mode": {
    "name": "ipython",
    "version": 3
   },
   "file_extension": ".py",
   "mimetype": "text/x-python",
   "name": "python",
   "nbconvert_exporter": "python",
   "pygments_lexer": "ipython3",
   "version": "3.10.8"
  }
 },
 "nbformat": 4,
 "nbformat_minor": 2
}
